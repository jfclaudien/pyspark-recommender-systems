{
 "cells": [
  {
   "cell_type": "code",
   "execution_count": 1,
   "id": "5e6162be",
   "metadata": {},
   "outputs": [],
   "source": [
    "from pyspark.sql import SparkSession"
   ]
  },
  {
   "cell_type": "code",
   "execution_count": 2,
   "id": "65321249",
   "metadata": {},
   "outputs": [
    {
     "data": {
      "text/html": [
       "\n",
       "            <div>\n",
       "                <p><b>SparkSession - in-memory</b></p>\n",
       "                \n",
       "        <div>\n",
       "            <p><b>SparkContext</b></p>\n",
       "\n",
       "            <p><a href=\"http://DESKTOP-TKLQQ6P:4041\">Spark UI</a></p>\n",
       "\n",
       "            <dl>\n",
       "              <dt>Version</dt>\n",
       "                <dd><code>v3.0.2</code></dd>\n",
       "              <dt>Master</dt>\n",
       "                <dd><code>local[*]</code></dd>\n",
       "              <dt>AppName</dt>\n",
       "                <dd><code>Recommender Systems</code></dd>\n",
       "            </dl>\n",
       "        </div>\n",
       "        \n",
       "            </div>\n",
       "        "
      ],
      "text/plain": [
       "<pyspark.sql.session.SparkSession at 0x1c512b722c8>"
      ]
     },
     "execution_count": 2,
     "metadata": {},
     "output_type": "execute_result"
    }
   ],
   "source": [
    "spark = SparkSession.builder.appName('Recommender Systems').getOrCreate()\n",
    "spark"
   ]
  },
  {
   "cell_type": "code",
   "execution_count": 3,
   "id": "46f23c31",
   "metadata": {},
   "outputs": [],
   "source": [
    "from pyspark.ml.recommendation import ALS\n",
    "from pyspark.ml.evaluation import RegressionEvaluator"
   ]
  },
  {
   "cell_type": "code",
   "execution_count": 4,
   "id": "207afb84",
   "metadata": {},
   "outputs": [],
   "source": [
    "movies = spark.read.csv('./data/movielens_ratings.csv', \n",
    "                        header= True, \n",
    "                        inferSchema=True) "
   ]
  },
  {
   "cell_type": "code",
   "execution_count": 5,
   "id": "b914b043",
   "metadata": {},
   "outputs": [
    {
     "name": "stdout",
     "output_type": "stream",
     "text": [
      "+-------+------+------+\n",
      "|movieId|rating|userId|\n",
      "+-------+------+------+\n",
      "|      2|   3.0|     0|\n",
      "|      3|   1.0|     0|\n",
      "|      5|   2.0|     0|\n",
      "|      9|   4.0|     0|\n",
      "|     11|   1.0|     0|\n",
      "+-------+------+------+\n",
      "only showing top 5 rows\n",
      "\n"
     ]
    }
   ],
   "source": [
    "movies.show(5)"
   ]
  },
  {
   "cell_type": "code",
   "execution_count": 6,
   "id": "bb01dca0",
   "metadata": {},
   "outputs": [
    {
     "name": "stdout",
     "output_type": "stream",
     "text": [
      "+-------+------------------+------------------+------------------+\n",
      "|summary|           movieId|            rating|            userId|\n",
      "+-------+------------------+------------------+------------------+\n",
      "|  count|              1501|              1501|              1501|\n",
      "|   mean| 49.40572951365756|1.7741505662891406|14.383744170552964|\n",
      "| stddev|28.937034065088994| 1.187276166124803| 8.591040424293272|\n",
      "|    min|                 0|               1.0|                 0|\n",
      "|    max|                99|               5.0|                29|\n",
      "+-------+------------------+------------------+------------------+\n",
      "\n"
     ]
    }
   ],
   "source": [
    "movies.describe().show()"
   ]
  },
  {
   "cell_type": "code",
   "execution_count": 7,
   "id": "f2655200",
   "metadata": {},
   "outputs": [
    {
     "name": "stdout",
     "output_type": "stream",
     "text": [
      "root\n",
      " |-- movieId: integer (nullable = true)\n",
      " |-- rating: double (nullable = true)\n",
      " |-- userId: integer (nullable = true)\n",
      "\n"
     ]
    }
   ],
   "source": [
    "movies.printSchema()"
   ]
  },
  {
   "cell_type": "code",
   "execution_count": 8,
   "id": "8f784820",
   "metadata": {},
   "outputs": [],
   "source": [
    "xTrain, xTest = movies.randomSplit((0.8, 0.2), seed= 42)"
   ]
  },
  {
   "cell_type": "code",
   "execution_count": 9,
   "id": "43eba981",
   "metadata": {},
   "outputs": [],
   "source": [
    "als = ALS(maxIter= 5, \n",
    "          regParam= 0.01, \n",
    "          userCol= 'userId', \n",
    "          itemCol= 'movieId', \n",
    "          ratingCol= 'rating')"
   ]
  },
  {
   "cell_type": "code",
   "execution_count": 10,
   "id": "066d39ef",
   "metadata": {},
   "outputs": [],
   "source": [
    "model = als.fit(xTrain)"
   ]
  },
  {
   "cell_type": "code",
   "execution_count": 11,
   "id": "02c100e1",
   "metadata": {},
   "outputs": [],
   "source": [
    "predictions = model.transform(xTest)"
   ]
  },
  {
   "cell_type": "code",
   "execution_count": 12,
   "id": "eb8cc05b",
   "metadata": {},
   "outputs": [
    {
     "name": "stdout",
     "output_type": "stream",
     "text": [
      "+-------+------+------+------------+\n",
      "|movieId|rating|userId|  prediction|\n",
      "+-------+------+------+------------+\n",
      "|     31|   1.0|    27|   2.5645566|\n",
      "|     31|   1.0|     5|   1.8662523|\n",
      "|     31|   1.0|    19|   2.0380602|\n",
      "|     31|   3.0|    14|   1.8544002|\n",
      "|     31|   1.0|     0|  0.30410588|\n",
      "|     85|   3.0|     6|   2.1187246|\n",
      "|     85|   4.0|     7|   2.6593423|\n",
      "|     53|   1.0|    12|    2.629088|\n",
      "|     78|   1.0|    28|  0.38350978|\n",
      "|     34|   1.0|    16|   1.6747544|\n",
      "|     34|   1.0|    15|   2.0311506|\n",
      "|     34|   1.0|     0|     3.60704|\n",
      "|     28|   3.0|     1|   2.9588513|\n",
      "|     28|   1.0|     5|  0.84762955|\n",
      "|     28|   1.0|     2|   -2.614057|\n",
      "|     76|   1.0|     1|  0.26065665|\n",
      "|     76|   1.0|    19|-0.024657637|\n",
      "|     76|   3.0|     7|   0.5248914|\n",
      "|     76|   1.0|    25|  -1.2432127|\n",
      "|     76|   1.0|     2| -0.90144485|\n",
      "+-------+------+------+------------+\n",
      "only showing top 20 rows\n",
      "\n"
     ]
    }
   ],
   "source": [
    "predictions.show()"
   ]
  },
  {
   "cell_type": "code",
   "execution_count": 13,
   "id": "b58b0c36",
   "metadata": {},
   "outputs": [],
   "source": [
    "evaluator = RegressionEvaluator(metricName= 'rmse', \n",
    "                                labelCol= 'rating',\n",
    "                                predictionCol= 'prediction')"
   ]
  },
  {
   "cell_type": "code",
   "execution_count": 14,
   "id": "8a1720c7",
   "metadata": {},
   "outputs": [],
   "source": [
    "rmse = evaluator.evaluate(predictions)"
   ]
  },
  {
   "cell_type": "code",
   "execution_count": 15,
   "id": "c1e9062d",
   "metadata": {},
   "outputs": [
    {
     "name": "stdout",
     "output_type": "stream",
     "text": [
      "RMSE : 1.6015854711844535\n"
     ]
    }
   ],
   "source": [
    "print(f'RMSE : {rmse}')"
   ]
  },
  {
   "cell_type": "code",
   "execution_count": 16,
   "id": "1f198adf",
   "metadata": {},
   "outputs": [],
   "source": [
    "single_user = xTest.filter(xTest['userId'] == 11).select(['movieId', 'userId'])"
   ]
  },
  {
   "cell_type": "code",
   "execution_count": 17,
   "id": "cd3ec5db",
   "metadata": {},
   "outputs": [
    {
     "name": "stdout",
     "output_type": "stream",
     "text": [
      "+-------+------+\n",
      "|movieId|userId|\n",
      "+-------+------+\n",
      "|     11|    11|\n",
      "|     32|    11|\n",
      "|     59|    11|\n",
      "|     62|    11|\n",
      "|     66|    11|\n",
      "|     67|    11|\n",
      "+-------+------+\n",
      "\n"
     ]
    }
   ],
   "source": [
    "single_user.show()"
   ]
  },
  {
   "cell_type": "code",
   "execution_count": 18,
   "id": "8ff68bd5",
   "metadata": {},
   "outputs": [],
   "source": [
    "recommandations = model.transform(single_user)"
   ]
  },
  {
   "cell_type": "code",
   "execution_count": 19,
   "id": "02372cc1",
   "metadata": {},
   "outputs": [
    {
     "name": "stdout",
     "output_type": "stream",
     "text": [
      "+-------+------+-----------+\n",
      "|movieId|userId| prediction|\n",
      "+-------+------+-----------+\n",
      "|     66|    11|   3.241285|\n",
      "|     11|    11|  2.9160783|\n",
      "|     59|    11|  1.9382064|\n",
      "|     67|    11|  1.4041697|\n",
      "|     32|    11|-0.45979792|\n",
      "|     62|    11| -0.6789422|\n",
      "+-------+------+-----------+\n",
      "\n"
     ]
    }
   ],
   "source": [
    "recommandations.orderBy('prediction', ascending = False).show()"
   ]
  }
 ],
 "metadata": {
  "kernelspec": {
   "display_name": "Python 3",
   "language": "python",
   "name": "python3"
  },
  "language_info": {
   "codemirror_mode": {
    "name": "ipython",
    "version": 3
   },
   "file_extension": ".py",
   "mimetype": "text/x-python",
   "name": "python",
   "nbconvert_exporter": "python",
   "pygments_lexer": "ipython3",
   "version": "3.7.10"
  }
 },
 "nbformat": 4,
 "nbformat_minor": 5
}
