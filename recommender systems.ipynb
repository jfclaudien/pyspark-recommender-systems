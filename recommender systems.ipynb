{
 "cells": [
  {
   "cell_type": "code",
   "execution_count": 1,
   "id": "e3cd03b3",
   "metadata": {},
   "outputs": [],
   "source": [
    "from pyspark.sql import SparkSession"
   ]
  },
  {
   "cell_type": "code",
   "execution_count": 2,
   "id": "499dab3e",
   "metadata": {},
   "outputs": [
    {
     "data": {
      "text/html": [
       "\n",
       "            <div>\n",
       "                <p><b>SparkSession - in-memory</b></p>\n",
       "                \n",
       "        <div>\n",
       "            <p><b>SparkContext</b></p>\n",
       "\n",
       "            <p><a href=\"http://DESKTOP-TKLQQ6P:4041\">Spark UI</a></p>\n",
       "\n",
       "            <dl>\n",
       "              <dt>Version</dt>\n",
       "                <dd><code>v3.0.2</code></dd>\n",
       "              <dt>Master</dt>\n",
       "                <dd><code>local[*]</code></dd>\n",
       "              <dt>AppName</dt>\n",
       "                <dd><code>Recommender Systems</code></dd>\n",
       "            </dl>\n",
       "        </div>\n",
       "        \n",
       "            </div>\n",
       "        "
      ],
      "text/plain": [
       "<pyspark.sql.session.SparkSession at 0x127defe1048>"
      ]
     },
     "execution_count": 2,
     "metadata": {},
     "output_type": "execute_result"
    }
   ],
   "source": [
    "spark = SparkSession.builder.appName('Recommender Systems').getOrCreate()\n",
    "spark"
   ]
  },
  {
   "cell_type": "code",
   "execution_count": 3,
   "id": "7a3c8c7c",
   "metadata": {},
   "outputs": [],
   "source": [
    "from pyspark.ml.recommendation import ALS\n",
    "from pyspark.ml.evaluation import RegressionEvaluator"
   ]
  },
  {
   "cell_type": "code",
   "execution_count": 4,
   "id": "887c2428",
   "metadata": {},
   "outputs": [],
   "source": [
    "movies = spark.read.csv('./data/movielens_ratings.csv', \n",
    "                        header= True, \n",
    "                        inferSchema=True) "
   ]
  },
  {
   "cell_type": "code",
   "execution_count": 5,
   "id": "41c1dacd",
   "metadata": {},
   "outputs": [
    {
     "name": "stdout",
     "output_type": "stream",
     "text": [
      "+-------+------+------+\n",
      "|movieId|rating|userId|\n",
      "+-------+------+------+\n",
      "|      2|   3.0|     0|\n",
      "|      3|   1.0|     0|\n",
      "|      5|   2.0|     0|\n",
      "|      9|   4.0|     0|\n",
      "|     11|   1.0|     0|\n",
      "+-------+------+------+\n",
      "only showing top 5 rows\n",
      "\n"
     ]
    }
   ],
   "source": [
    "movies.show(5)"
   ]
  },
  {
   "cell_type": "code",
   "execution_count": 6,
   "id": "974f65f9",
   "metadata": {},
   "outputs": [
    {
     "name": "stdout",
     "output_type": "stream",
     "text": [
      "+-------+------------------+------------------+------------------+\n",
      "|summary|           movieId|            rating|            userId|\n",
      "+-------+------------------+------------------+------------------+\n",
      "|  count|              1501|              1501|              1501|\n",
      "|   mean| 49.40572951365756|1.7741505662891406|14.383744170552964|\n",
      "| stddev|28.937034065088994| 1.187276166124803| 8.591040424293272|\n",
      "|    min|                 0|               1.0|                 0|\n",
      "|    max|                99|               5.0|                29|\n",
      "+-------+------------------+------------------+------------------+\n",
      "\n"
     ]
    }
   ],
   "source": [
    "movies.describe().show()"
   ]
  },
  {
   "cell_type": "code",
   "execution_count": 7,
   "id": "439b109e",
   "metadata": {},
   "outputs": [
    {
     "name": "stdout",
     "output_type": "stream",
     "text": [
      "root\n",
      " |-- movieId: integer (nullable = true)\n",
      " |-- rating: double (nullable = true)\n",
      " |-- userId: integer (nullable = true)\n",
      "\n"
     ]
    }
   ],
   "source": [
    "movies.printSchema()"
   ]
  },
  {
   "cell_type": "code",
   "execution_count": 8,
   "id": "40b3582f",
   "metadata": {},
   "outputs": [],
   "source": [
    "xTrain, xTest = movies.randomSplit((0.8, 0.2), seed= 42)"
   ]
  },
  {
   "cell_type": "code",
   "execution_count": 9,
   "id": "6df119ac",
   "metadata": {},
   "outputs": [],
   "source": [
    "als = ALS(maxIter= 5, \n",
    "          regParam= 0.01, \n",
    "          userCol= 'userId', \n",
    "          itemCol= 'movieId', \n",
    "          ratingCol= 'rating')"
   ]
  },
  {
   "cell_type": "code",
   "execution_count": 10,
   "id": "18472dc6",
   "metadata": {},
   "outputs": [],
   "source": [
    "model = als.fit(xTrain)"
   ]
  },
  {
   "cell_type": "code",
   "execution_count": 11,
   "id": "df8e24c6",
   "metadata": {},
   "outputs": [],
   "source": [
    "predictions = model.transform(xTest)"
   ]
  },
  {
   "cell_type": "code",
   "execution_count": 12,
   "id": "5d69aad3",
   "metadata": {},
   "outputs": [
    {
     "name": "stdout",
     "output_type": "stream",
     "text": [
      "+-------+------+------+-----------+\n",
      "|movieId|rating|userId| prediction|\n",
      "+-------+------+------+-----------+\n",
      "|     31|   1.0|    27|  0.8712373|\n",
      "|     31|   1.0|     5|-0.42556602|\n",
      "|     31|   1.0|    19| 0.92135257|\n",
      "|     31|   3.0|    14|  2.9411464|\n",
      "|     31|   1.0|     0|  0.8908188|\n",
      "|     85|   3.0|     6|  4.3408704|\n",
      "|     85|   4.0|     7|  4.0961556|\n",
      "|     53|   1.0|    12|  2.6252193|\n",
      "|     78|   1.0|    28|  1.0353686|\n",
      "|     34|   1.0|    16|   4.521089|\n",
      "|     34|   1.0|    15|  1.4414614|\n",
      "|     34|   1.0|     0|-0.85931534|\n",
      "|     28|   3.0|     1|  2.6998339|\n",
      "|     28|   1.0|     5|  3.1425374|\n",
      "|     28|   1.0|     2|   3.418564|\n",
      "|     76|   1.0|     1|  0.7603221|\n",
      "|     76|   1.0|    19|  0.5588336|\n",
      "|     76|   3.0|     7|  3.0901005|\n",
      "|     76|   1.0|    25|  1.2033222|\n",
      "|     76|   1.0|     2|   3.848323|\n",
      "+-------+------+------+-----------+\n",
      "only showing top 20 rows\n",
      "\n"
     ]
    }
   ],
   "source": [
    "predictions.show()"
   ]
  },
  {
   "cell_type": "code",
   "execution_count": 13,
   "id": "3ed8c27c",
   "metadata": {},
   "outputs": [],
   "source": [
    "evaluator = RegressionEvaluator(metricName= 'rmse', \n",
    "                                labelCol= 'rating',\n",
    "                                predictionCol= 'prediction')"
   ]
  },
  {
   "cell_type": "code",
   "execution_count": 14,
   "id": "2fd4038a",
   "metadata": {},
   "outputs": [],
   "source": [
    "rmse = evaluator.evaluate(predictions)"
   ]
  },
  {
   "cell_type": "code",
   "execution_count": 15,
   "id": "e104c419",
   "metadata": {},
   "outputs": [
    {
     "name": "stdout",
     "output_type": "stream",
     "text": [
      "RMSE : 1.6955294020218656\n"
     ]
    }
   ],
   "source": [
    "print(f'RMSE : {rmse}')"
   ]
  },
  {
   "cell_type": "code",
   "execution_count": 16,
   "id": "36ab689b",
   "metadata": {},
   "outputs": [],
   "source": [
    "single_user = xTest.filter(xTest['userId'] == 11).select(['movieId', 'userId'])"
   ]
  },
  {
   "cell_type": "code",
   "execution_count": 17,
   "id": "3bbe50f4",
   "metadata": {},
   "outputs": [
    {
     "name": "stdout",
     "output_type": "stream",
     "text": [
      "+-------+------+\n",
      "|movieId|userId|\n",
      "+-------+------+\n",
      "|     11|    11|\n",
      "|     32|    11|\n",
      "|     59|    11|\n",
      "|     62|    11|\n",
      "|     66|    11|\n",
      "|     67|    11|\n",
      "+-------+------+\n",
      "\n"
     ]
    }
   ],
   "source": [
    "single_user.show()"
   ]
  },
  {
   "cell_type": "code",
   "execution_count": 18,
   "id": "593696bb",
   "metadata": {},
   "outputs": [],
   "source": [
    "recommandations = model.transform(single_user)"
   ]
  },
  {
   "cell_type": "code",
   "execution_count": null,
   "id": "a5190693",
   "metadata": {},
   "outputs": [],
   "source": [
    "recommandations.orderBy('prediction', ascending = False).show()"
   ]
  }
 ],
 "metadata": {
  "kernelspec": {
   "display_name": "Python 3",
   "language": "python",
   "name": "python3"
  },
  "language_info": {
   "codemirror_mode": {
    "name": "ipython",
    "version": 3
   },
   "file_extension": ".py",
   "mimetype": "text/x-python",
   "name": "python",
   "nbconvert_exporter": "python",
   "pygments_lexer": "ipython3",
   "version": "3.7.10"
  }
 },
 "nbformat": 4,
 "nbformat_minor": 5
}
